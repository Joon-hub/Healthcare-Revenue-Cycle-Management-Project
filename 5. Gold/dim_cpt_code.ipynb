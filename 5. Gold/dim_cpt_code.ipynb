{
 "cells": [
  {
   "cell_type": "code",
   "execution_count": 0,
   "metadata": {
    "application/vnd.databricks.v1+cell": {
     "cellMetadata": {
      "byteLimit": 2048000,
      "implicitDf": true,
      "rowLimit": 10000
     },
     "inputWidgets": {},
     "nuid": "72c6af4a-9665-4054-8183-044a3da77a34",
     "showTitle": false,
     "tableResultSettingsMap": {},
     "title": ""
    }
   },
   "outputs": [],
   "source": [
    "%sql\n",
    "-- Step 0: Create the gold schema if it does not exist\n",
    "CREATE SCHEMA IF NOT EXISTS gold;\n",
    "\n",
    "-- Step 1: Create the gold.dim_cpt_code table if it does not exist\n",
    "CREATE TABLE IF NOT EXISTS gold.dim_cpt_code (\n",
    "    cpt_codes                   STRING,\n",
    "    procedure_code_category     STRING,\n",
    "    procedure_code_descriptions STRING,\n",
    "    code_status                 STRING,\n",
    "    refreshed_at                TIMESTAMP\n",
    ");\n",
    "\n",
    "-- Step 2: Truncate the dimension table before refreshing\n",
    "TRUNCATE TABLE gold.dim_cpt_code;\n",
    "\n",
    "-- Step 3: Insert the latest, non-quarantined CPT codes from the silver layer\n",
    "INSERT INTO gold.dim_cpt_code\n",
    "SELECT\n",
    "    cpt_codes,\n",
    "    procedure_code_category,\n",
    "    procedure_code_descriptions,\n",
    "    code_status,\n",
    "    current_timestamp() AS refreshed_at\n",
    "FROM\n",
    "    silver.cptcodes\n",
    "WHERE\n",
    "    is_quarantined = false\n",
    "    AND is_current = true;\n",
    "\n",
    "-- Step 4: Review the refreshed dimension table\n",
    "SELECT * FROM gold.dim_cpt_code;"
   ]
  },
  {
   "cell_type": "code",
   "execution_count": 0,
   "metadata": {
    "application/vnd.databricks.v1+cell": {
     "cellMetadata": {},
     "inputWidgets": {},
     "nuid": "2fa30fcb-0e99-4a4a-ad1e-74f14ee4cd3f",
     "showTitle": false,
     "tableResultSettingsMap": {},
     "title": ""
    }
   },
   "outputs": [],
   "source": []
  }
 ],
 "metadata": {
  "application/vnd.databricks.v1+notebook": {
   "computePreferences": null,
   "dashboards": [],
   "environmentMetadata": {
    "base_environment": "",
    "environment_version": "2"
   },
   "inputWidgetPreferences": null,
   "language": "python",
   "notebookMetadata": {
    "mostRecentlyExecutedCommandWithImplicitDF": {
     "commandId": 7657642002135172,
     "dataframes": [
      "_sqldf"
     ]
    },
    "pythonIndentUnit": 4
   },
   "notebookName": "dim_cpt_code",
   "widgets": {}
  },
  "language_info": {
   "name": "python"
  }
 },
 "nbformat": 4,
 "nbformat_minor": 0
}
