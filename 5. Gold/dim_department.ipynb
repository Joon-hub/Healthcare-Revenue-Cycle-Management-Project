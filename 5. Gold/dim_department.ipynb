{
 "cells": [
  {
   "cell_type": "code",
   "execution_count": 0,
   "metadata": {
    "application/vnd.databricks.v1+cell": {
     "cellMetadata": {
      "byteLimit": 2048000,
      "implicitDf": true,
      "rowLimit": 10000
     },
     "inputWidgets": {},
     "nuid": "5f811694-1f05-44cc-b30c-6d4e98caf65c",
     "showTitle": false,
     "tableResultSettingsMap": {},
     "title": ""
    }
   },
   "outputs": [],
   "source": [
    "%sql\n",
    "-- Step 1: Create the gold.dim_department table if it does not already exist\n",
    "CREATE TABLE IF NOT EXISTS gold.dim_department (\n",
    "    Dept_Id      STRING,\n",
    "    SRC_Dept_Id  STRING,\n",
    "    Name         STRING,\n",
    "    datasource   STRING\n",
    ");\n",
    "\n",
    "-- Step 2: Truncate the dimension table to prepare for a fresh load\n",
    "TRUNCATE TABLE gold.dim_department;\n",
    "\n",
    "-- Step 3: Insert distinct, non-quarantined departments from the silver layer\n",
    "INSERT INTO gold.dim_department\n",
    "SELECT DISTINCT\n",
    "    Dept_Id,\n",
    "    SRC_Dept_Id,\n",
    "    Name,\n",
    "    datasource\n",
    "FROM\n",
    "    silver.departments\n",
    "WHERE\n",
    "    is_quarantined = false;\n",
    "\n",
    "-- Step 4: Review the refreshed department dimension table\n",
    "SELECT * FROM gold.dim_department;\n"
   ]
  },
  {
   "cell_type": "code",
   "execution_count": 0,
   "metadata": {
    "application/vnd.databricks.v1+cell": {
     "cellMetadata": {},
     "inputWidgets": {},
     "nuid": "bbfbfde7-6ef3-4d77-9361-8470d6d3bfe5",
     "showTitle": false,
     "tableResultSettingsMap": {},
     "title": ""
    }
   },
   "outputs": [],
   "source": []
  }
 ],
 "metadata": {
  "application/vnd.databricks.v1+notebook": {
   "computePreferences": null,
   "dashboards": [],
   "environmentMetadata": {
    "base_environment": "",
    "environment_version": "2"
   },
   "inputWidgetPreferences": null,
   "language": "python",
   "notebookMetadata": {
    "mostRecentlyExecutedCommandWithImplicitDF": {
     "commandId": 7657642002135174,
     "dataframes": [
      "_sqldf"
     ]
    },
    "pythonIndentUnit": 4
   },
   "notebookName": "dim_department",
   "widgets": {}
  },
  "language_info": {
   "name": "python"
  }
 },
 "nbformat": 4,
 "nbformat_minor": 0
}
