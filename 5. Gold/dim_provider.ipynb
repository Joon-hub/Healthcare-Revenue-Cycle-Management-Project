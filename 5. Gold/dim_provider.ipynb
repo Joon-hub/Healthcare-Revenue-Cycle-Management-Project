{
 "cells": [
  {
   "cell_type": "code",
   "execution_count": 0,
   "metadata": {
    "application/vnd.databricks.v1+cell": {
     "cellMetadata": {
      "byteLimit": 2048000,
      "implicitDf": true,
      "rowLimit": 10000
     },
     "inputWidgets": {},
     "nuid": "371de393-ce56-465d-a788-1ca5d21c5303",
     "showTitle": false,
     "tableResultSettingsMap": {},
     "title": ""
    }
   },
   "outputs": [],
   "source": [
    "%sql\n",
    "-- Step 1: Create the gold.dim_provider table if it does not already exist\n",
    "CREATE TABLE IF NOT EXISTS gold.dim_provider (\n",
    "    ProviderID   STRING,\n",
    "    FirstName    STRING,\n",
    "    LastName     STRING,\n",
    "    DeptID       STRING,\n",
    "    NPI          LONG,\n",
    "    datasource   STRING\n",
    ");\n",
    "\n",
    "-- Step 2: Truncate the dimension table to prepare for a fresh load\n",
    "TRUNCATE TABLE gold.dim_provider;\n",
    "\n",
    "-- Step 3: Insert non-quarantined provider records from the silver layer\n",
    "INSERT INTO gold.dim_provider\n",
    "SELECT\n",
    "    ProviderID,\n",
    "    FirstName,\n",
    "    LastName,\n",
    "    CONCAT(DeptID, '-', datasource) AS DeptID,\n",
    "    NPI,\n",
    "    datasource\n",
    "FROM\n",
    "    silver.providers\n",
    "WHERE\n",
    "    is_quarantined = false;\n"
   ]
  },
  {
   "cell_type": "code",
   "execution_count": 0,
   "metadata": {
    "application/vnd.databricks.v1+cell": {
     "cellMetadata": {},
     "inputWidgets": {},
     "nuid": "46db36c1-a028-45e5-94f0-29bae4fffee1",
     "showTitle": false,
     "tableResultSettingsMap": {},
     "title": ""
    }
   },
   "outputs": [],
   "source": []
  }
 ],
 "metadata": {
  "application/vnd.databricks.v1+notebook": {
   "computePreferences": null,
   "dashboards": [],
   "environmentMetadata": {
    "base_environment": "",
    "environment_version": "2"
   },
   "inputWidgetPreferences": null,
   "language": "python",
   "notebookMetadata": {
    "mostRecentlyExecutedCommandWithImplicitDF": {
     "commandId": 7657642002135187,
     "dataframes": [
      "_sqldf"
     ]
    },
    "pythonIndentUnit": 4
   },
   "notebookName": "dim_provider",
   "widgets": {}
  },
  "language_info": {
   "name": "python"
  }
 },
 "nbformat": 4,
 "nbformat_minor": 0
}
