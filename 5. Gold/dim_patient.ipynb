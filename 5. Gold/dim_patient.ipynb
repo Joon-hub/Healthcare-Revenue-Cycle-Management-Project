{
 "cells": [
  {
   "cell_type": "code",
   "execution_count": 0,
   "metadata": {
    "application/vnd.databricks.v1+cell": {
     "cellMetadata": {
      "byteLimit": 2048000,
      "implicitDf": true,
      "rowLimit": 10000
     },
     "inputWidgets": {},
     "nuid": "211cf942-8022-48e3-8b09-a68eb76faad6",
     "showTitle": false,
     "tableResultSettingsMap": {},
     "title": ""
    }
   },
   "outputs": [],
   "source": [
    "%sql\n",
    "-- Step 1: Create the gold.dim_patient table if it does not already exist\n",
    "CREATE TABLE IF NOT EXISTS gold.dim_patient (\n",
    "    patient_key     STRING,\n",
    "    src_patientid   STRING,\n",
    "    firstname       STRING,\n",
    "    lastname        STRING,\n",
    "    middlename      STRING,\n",
    "    ssn             STRING,\n",
    "    phonenumber     STRING,\n",
    "    gender          STRING,\n",
    "    dob             DATE,\n",
    "    address         STRING,\n",
    "    datasource      STRING\n",
    ");\n",
    "\n",
    "-- Step 2: Truncate the dimension table to prepare for a fresh load\n",
    "TRUNCATE TABLE gold.dim_patient;\n",
    "\n",
    "-- Step 3: Insert current, non-quarantined patient records from the silver layer\n",
    "INSERT INTO gold.dim_patient\n",
    "SELECT\n",
    "    patient_key,\n",
    "    src_patientid,\n",
    "    firstname,\n",
    "    lastname,\n",
    "    middlename,\n",
    "    ssn,\n",
    "    phonenumber,\n",
    "    gender,\n",
    "    dob,\n",
    "    address,\n",
    "    datasource\n",
    "FROM\n",
    "    silver.patients\n",
    "WHERE\n",
    "    is_current = true\n",
    "    AND is_quarantined = false;\n"
   ]
  },
  {
   "cell_type": "code",
   "execution_count": 0,
   "metadata": {
    "application/vnd.databricks.v1+cell": {
     "cellMetadata": {},
     "inputWidgets": {},
     "nuid": "a5f56634-44d6-479c-876b-20a5129087d1",
     "showTitle": false,
     "tableResultSettingsMap": {},
     "title": ""
    }
   },
   "outputs": [],
   "source": []
  }
 ],
 "metadata": {
  "application/vnd.databricks.v1+notebook": {
   "computePreferences": null,
   "dashboards": [],
   "environmentMetadata": {
    "base_environment": "",
    "environment_version": "2"
   },
   "inputWidgetPreferences": null,
   "language": "python",
   "notebookMetadata": {
    "mostRecentlyExecutedCommandWithImplicitDF": {
     "commandId": 7657642002135185,
     "dataframes": [
      "_sqldf"
     ]
    },
    "pythonIndentUnit": 4
   },
   "notebookName": "dim_patient",
   "widgets": {}
  },
  "language_info": {
   "name": "python"
  }
 },
 "nbformat": 4,
 "nbformat_minor": 0
}
