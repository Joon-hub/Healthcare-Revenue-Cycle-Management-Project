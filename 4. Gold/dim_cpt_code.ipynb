{
 "cells": [
  {
   "cell_type": "code",
   "execution_count": 0,
   "metadata": {
    "application/vnd.databricks.v1+cell": {
     "cellMetadata": {},
     "inputWidgets": {},
     "nuid": "72c6af4a-9665-4054-8183-044a3da77a34",
     "showTitle": false,
     "tableResultSettingsMap": {},
     "title": ""
    }
   },
   "outputs": [],
   "source": [
    "%sql\n",
    "-- Step 1: Create the gold.dim_cpt_code table if it does not exist\n",
    "CREATE TABLE IF NOT EXISTS gold.dim_cpt_code (\n",
    "    cpt_codes                   STRING,\n",
    "    procedure_code_category     STRING,\n",
    "    procedure_code_descriptions STRING,\n",
    "    code_status                 STRING,\n",
    "    refreshed_at                TIMESTAMP\n",
    ");\n",
    "\n",
    "-- Step 2: Truncate the dimension table before refreshing\n",
    "TRUNCATE TABLE gold.dim_cpt_code;\n",
    "\n",
    "-- Step 3: Insert the latest, non-quarantined CPT codes from the silver layer\n",
    "INSERT INTO gold.dim_cpt_code\n",
    "SELECT\n",
    "    cpt_codes,\n",
    "    procedure_code_category,\n",
    "    procedure_code_descriptions,\n",
    "    code_status,\n",
    "    current_timestamp() AS refreshed_at\n",
    "FROM\n",
    "    silver.cptcodes\n",
    "WHERE\n",
    "    is_quarantined = false\n",
    "    AND is_current = true;\n",
    "\n",
    "-- Step 4: Review the refreshed dimension table\n",
    "SELECT * FROM gold.dim_cpt_code;\n"
   ]
  }
 ],
 "metadata": {
  "application/vnd.databricks.v1+notebook": {
   "computePreferences": null,
   "dashboards": [],
   "environmentMetadata": {
    "base_environment": "",
    "environment_version": "2"
   },
   "inputWidgetPreferences": null,
   "language": "python",
   "notebookMetadata": {
    "pythonIndentUnit": 4
   },
   "notebookName": "dim_cpt_code",
   "widgets": {}
  },
  "language_info": {
   "name": "python"
  }
 },
 "nbformat": 4,
 "nbformat_minor": 0
}
